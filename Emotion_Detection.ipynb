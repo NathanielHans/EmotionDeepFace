{
 "cells": [
  {
   "cell_type": "code",
   "execution_count": 2,
   "id": "e2d39fa6",
   "metadata": {},
   "outputs": [],
   "source": [
    "import cv2\n",
    "import numpy as np\n",
    "from deepface import DeepFace\n",
    "\n",
    "# Load face cascade classifier\n",
    "face_cascade = cv2.CascadeClassifier(cv2.data.haarcascades + 'haarcascade_frontalface_default.xml')\n",
    "\n",
    "# Start capturing video\n",
    "cap = cv2.VideoCapture(0)  # Try with index 0 first\n",
    "\n",
    "while True:\n",
    "    # Capture frame-by-frame\n",
    "    ret, frame = cap.read()\n",
    "\n",
    "    # Convert frame to grayscale\n",
    "    gray_frame = cv2.cvtColor(frame, cv2.COLOR_BGR2GRAY)\n",
    "\n",
    "    # Detect faces in the frame\n",
    "    faces = face_cascade.detectMultiScale(gray_frame)\n",
    "    response  = DeepFace.analyze(frame, actions = (\"emotion\",), enforce_detection = False)\n",
    "    for (x, y, w, h) in faces:\n",
    "        cv2.putText(frame, text = response[0][\"dominant_emotion\"], org=(x,y), fontFace = cv2.FONT_HERSHEY_COMPLEX, fontScale=1, color=(0,255,0))\n",
    "        new_frame = cv2.rectangle(frame, (x,y), (x+w,y+h), color = (0,0,255), thickness = 2)\n",
    "    # Display the resulting frame\n",
    "    cv2.imshow('Video Stream', frame)\n",
    "\n",
    "    # Press 'q' to exit\n",
    "    if cv2.waitKey(1) & 0xFF == ord('q'):\n",
    "        break\n",
    "\n",
    "# Release the capture and close all windows\n",
    "cap.release()\n",
    "cv2.destroyAllWindows()\n"
   ]
  },
  {
   "cell_type": "code",
   "execution_count": null,
   "id": "cfe491a8",
   "metadata": {},
   "outputs": [],
   "source": []
  }
 ],
 "metadata": {
  "kernelspec": {
   "display_name": "Python 3 (ipykernel)",
   "language": "python",
   "name": "python3"
  },
  "language_info": {
   "codemirror_mode": {
    "name": "ipython",
    "version": 3
   },
   "file_extension": ".py",
   "mimetype": "text/x-python",
   "name": "python",
   "nbconvert_exporter": "python",
   "pygments_lexer": "ipython3",
   "version": "3.9.13"
  }
 },
 "nbformat": 4,
 "nbformat_minor": 5
}
